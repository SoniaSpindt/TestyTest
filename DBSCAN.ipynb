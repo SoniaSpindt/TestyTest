{
 "cells": [
  {
   "cell_type": "code",
   "execution_count": null,
   "id": "7db3930b-c2b0-42e3-ab70-c9cec589814e",
   "metadata": {},
   "outputs": [],
   "source": [
    "# the start of something great\n",
    "from sklearn.cluster import DBSCAN"
   ]
  }
 ],
 "metadata": {
  "kernelspec": {
   "display_name": "Python 3 (ipykernel)",
   "language": "python",
   "name": "python3"
  },
  "language_info": {
   "codemirror_mode": {
    "name": "ipython",
    "version": 3
   },
   "file_extension": ".py",
   "mimetype": "text/x-python",
   "name": "python",
   "nbconvert_exporter": "python",
   "pygments_lexer": "ipython3",
   "version": "3.11.3"
  }
 },
 "nbformat": 4,
 "nbformat_minor": 5
}
